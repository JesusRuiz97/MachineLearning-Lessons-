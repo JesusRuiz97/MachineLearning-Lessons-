{
 "cells": [
  {
   "cell_type": "code",
   "execution_count": 2,
   "id": "f41550e9-d63f-49c2-bf92-38fc59f9df76",
   "metadata": {},
   "outputs": [],
   "source": [
    "def dividir_entre_dos(numero):\n",
    "    resultado = numero / 2\n",
    "    return resultado"
   ]
  },
  {
   "cell_type": "code",
   "execution_count": 3,
   "id": "4d2b8e05-4418-465d-bd33-4baa2c73d91f",
   "metadata": {},
   "outputs": [
    {
     "data": {
      "text/plain": [
       "8.0"
      ]
     },
     "execution_count": 3,
     "metadata": {},
     "output_type": "execute_result"
    }
   ],
   "source": [
    "dividir_entre_dos(16)"
   ]
  },
  {
   "cell_type": "code",
   "execution_count": 4,
   "id": "8cf0b195-7584-40a2-814a-3446e7c4cfe8",
   "metadata": {},
   "outputs": [],
   "source": [
    "lista = [20,18,9,4,10,40,6]"
   ]
  },
  {
   "cell_type": "code",
   "execution_count": 5,
   "id": "c548b796-63ef-458c-8cf9-777f348432af",
   "metadata": {},
   "outputs": [],
   "source": [
    "lista2 = list(map(dividir_entre_dos,lista))"
   ]
  },
  {
   "cell_type": "code",
   "execution_count": 6,
   "id": "321cc76d-0aec-420b-aab7-e4f7989305ac",
   "metadata": {},
   "outputs": [
    {
     "data": {
      "text/plain": [
       "[10.0, 9.0, 4.5, 2.0, 5.0, 20.0, 3.0]"
      ]
     },
     "execution_count": 6,
     "metadata": {},
     "output_type": "execute_result"
    }
   ],
   "source": [
    "lista2"
   ]
  },
  {
   "cell_type": "code",
   "execution_count": null,
   "id": "b2426de5-db6e-4a82-aa91-78f9dfd85c08",
   "metadata": {},
   "outputs": [],
   "source": []
  }
 ],
 "metadata": {
  "kernelspec": {
   "display_name": "Python 3.14 (base2)",
   "language": "python",
   "name": "base2"
  },
  "language_info": {
   "codemirror_mode": {
    "name": "ipython",
    "version": 3
   },
   "file_extension": ".py",
   "mimetype": "text/x-python",
   "name": "python",
   "nbconvert_exporter": "python",
   "pygments_lexer": "ipython3",
   "version": "3.13.9"
  }
 },
 "nbformat": 4,
 "nbformat_minor": 5
}
