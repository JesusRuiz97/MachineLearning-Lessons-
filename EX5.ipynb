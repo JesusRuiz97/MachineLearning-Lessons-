{
 "cells": [
  {
   "cell_type": "code",
   "execution_count": 2,
   "id": "43955a2c-b99e-4160-ba17-1ad64063e94a",
   "metadata": {},
   "outputs": [],
   "source": [
    "import numpy as np"
   ]
  },
  {
   "cell_type": "code",
   "execution_count": 12,
   "id": "edae9540-af18-4532-88d9-9de5a1875d68",
   "metadata": {},
   "outputs": [],
   "source": [
    "array = np.arange(10,40)"
   ]
  },
  {
   "cell_type": "code",
   "execution_count": 13,
   "id": "c864ec5a-75e8-4daa-b54d-cf6dcd98eb89",
   "metadata": {},
   "outputs": [
    {
     "data": {
      "text/plain": [
       "array([10, 11, 12, 13, 14, 15, 16, 17, 18, 19, 20, 21, 22, 23, 24, 25, 26,\n",
       "       27, 28, 29, 30, 31, 32, 33, 34, 35, 36, 37, 38, 39])"
      ]
     },
     "execution_count": 13,
     "metadata": {},
     "output_type": "execute_result"
    }
   ],
   "source": [
    "array"
   ]
  },
  {
   "cell_type": "code",
   "execution_count": 14,
   "id": "2a0cdd77-a3f3-484f-b016-e0d9323f8377",
   "metadata": {},
   "outputs": [],
   "source": [
    "matriz = array.reshape(3,10)"
   ]
  },
  {
   "cell_type": "code",
   "execution_count": 15,
   "id": "f804085b-2c43-4825-bfbe-f8687b8c96c3",
   "metadata": {},
   "outputs": [
    {
     "data": {
      "text/plain": [
       "array([[10, 11, 12, 13, 14, 15, 16, 17, 18, 19],\n",
       "       [20, 21, 22, 23, 24, 25, 26, 27, 28, 29],\n",
       "       [30, 31, 32, 33, 34, 35, 36, 37, 38, 39]])"
      ]
     },
     "execution_count": 15,
     "metadata": {},
     "output_type": "execute_result"
    }
   ],
   "source": [
    "matriz"
   ]
  },
  {
   "cell_type": "code",
   "execution_count": 18,
   "id": "540e9e1c-84ea-4dc6-809a-7ccac231dc33",
   "metadata": {},
   "outputs": [
    {
     "data": {
      "text/plain": [
       "np.int64(19)"
      ]
     },
     "execution_count": 18,
     "metadata": {},
     "output_type": "execute_result"
    }
   ],
   "source": [
    "array[9]"
   ]
  },
  {
   "cell_type": "code",
   "execution_count": null,
   "id": "b8d2c31d-d4fc-4da2-81f2-46cf832923a1",
   "metadata": {},
   "outputs": [],
   "source": []
  }
 ],
 "metadata": {
  "kernelspec": {
   "display_name": "Python 3.14 (base2)",
   "language": "python",
   "name": "base2"
  },
  "language_info": {
   "codemirror_mode": {
    "name": "ipython",
    "version": 3
   },
   "file_extension": ".py",
   "mimetype": "text/x-python",
   "name": "python",
   "nbconvert_exporter": "python",
   "pygments_lexer": "ipython3",
   "version": "3.13.9"
  }
 },
 "nbformat": 4,
 "nbformat_minor": 5
}
