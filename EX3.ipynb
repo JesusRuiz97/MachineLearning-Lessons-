{
 "cells": [
  {
   "cell_type": "code",
   "execution_count": 3,
   "id": "4bd49951-7b53-4f66-9681-633866525e9a",
   "metadata": {},
   "outputs": [],
   "source": [
    "lista = ['manzana', 'platano', 'melocoton', 'pera','manzana', 'pera', 'limon', 'platano', 'naranja']\n",
    "conjunto = set(lista)"
   ]
  },
  {
   "cell_type": "code",
   "execution_count": 4,
   "id": "c2498437-7b52-4d77-a534-0b78e0393f5d",
   "metadata": {},
   "outputs": [
    {
     "data": {
      "text/plain": [
       "['manzana',\n",
       " 'platano',\n",
       " 'melocoton',\n",
       " 'pera',\n",
       " 'manzana',\n",
       " 'pera',\n",
       " 'limon',\n",
       " 'platano',\n",
       " 'naranja']"
      ]
     },
     "execution_count": 4,
     "metadata": {},
     "output_type": "execute_result"
    }
   ],
   "source": [
    "lista"
   ]
  },
  {
   "cell_type": "code",
   "execution_count": 5,
   "id": "7d6edbc1-1c09-47f6-a0b4-eef5843e0e74",
   "metadata": {},
   "outputs": [
    {
     "data": {
      "text/plain": [
       "{'limon', 'manzana', 'melocoton', 'naranja', 'pera', 'platano'}"
      ]
     },
     "execution_count": 5,
     "metadata": {},
     "output_type": "execute_result"
    }
   ],
   "source": [
    "conjunto"
   ]
  },
  {
   "cell_type": "code",
   "execution_count": 6,
   "id": "abd00bd9-8806-4190-b31e-2838e4844c68",
   "metadata": {},
   "outputs": [],
   "source": [
    "lista_sin_duplicados = []\n",
    "for elemento in conjunto:\n",
    "    lista_sin_duplicados.append(elemento)"
   ]
  },
  {
   "cell_type": "code",
   "execution_count": 8,
   "id": "2c11061d-ce03-4a5a-bcd0-1349759a3bcd",
   "metadata": {},
   "outputs": [
    {
     "data": {
      "text/plain": [
       "['melocoton', 'manzana', 'limon', 'naranja', 'platano', 'pera']"
      ]
     },
     "execution_count": 8,
     "metadata": {},
     "output_type": "execute_result"
    }
   ],
   "source": [
    "lista_sin_duplicados"
   ]
  },
  {
   "cell_type": "code",
   "execution_count": null,
   "id": "fba41d2a-9cee-40eb-8ebc-ebe727efab78",
   "metadata": {},
   "outputs": [],
   "source": []
  }
 ],
 "metadata": {
  "kernelspec": {
   "display_name": "Python 3.14 (base2)",
   "language": "python",
   "name": "base2"
  },
  "language_info": {
   "codemirror_mode": {
    "name": "ipython",
    "version": 3
   },
   "file_extension": ".py",
   "mimetype": "text/x-python",
   "name": "python",
   "nbconvert_exporter": "python",
   "pygments_lexer": "ipython3",
   "version": "3.13.9"
  }
 },
 "nbformat": 4,
 "nbformat_minor": 5
}
