{
 "cells": [
  {
   "cell_type": "code",
   "execution_count": 1,
   "id": "7581a41e-33ea-48d4-8ae2-8dd13af4ed32",
   "metadata": {},
   "outputs": [],
   "source": [
    "frase = \"Hola, este es un curso básico de Python\""
   ]
  },
  {
   "cell_type": "code",
   "execution_count": 2,
   "id": "1a7e9c29-cbf6-4f23-944d-fc9f0bd83925",
   "metadata": {},
   "outputs": [],
   "source": [
    "palabras = frase.split()"
   ]
  },
  {
   "cell_type": "code",
   "execution_count": 3,
   "id": "0d543837-502d-4db1-b821-6124e7327b8d",
   "metadata": {},
   "outputs": [
    {
     "data": {
      "text/plain": [
       "['Hola,', 'este', 'es', 'un', 'curso', 'básico', 'de', 'Python']"
      ]
     },
     "execution_count": 3,
     "metadata": {},
     "output_type": "execute_result"
    }
   ],
   "source": [
    "palabras"
   ]
  },
  {
   "cell_type": "code",
   "execution_count": 6,
   "id": "4d3e26d5-7d37-4b6b-8060-117718d6c9d7",
   "metadata": {},
   "outputs": [],
   "source": [
    "numero = 0\n",
    "for palabra in palabras:\n",
    "    numero = numero + 1"
   ]
  },
  {
   "cell_type": "code",
   "execution_count": 7,
   "id": "e69446e7-9b43-4cd7-ab33-84b63f1db20a",
   "metadata": {},
   "outputs": [
    {
     "data": {
      "text/plain": [
       "8"
      ]
     },
     "execution_count": 7,
     "metadata": {},
     "output_type": "execute_result"
    }
   ],
   "source": [
    "numero"
   ]
  },
  {
   "cell_type": "code",
   "execution_count": 8,
   "id": "2ebc5c67-3d1c-4781-aa1d-814354951881",
   "metadata": {},
   "outputs": [
    {
     "name": "stdout",
     "output_type": "stream",
     "text": [
      "El número de palabras es 8\n"
     ]
    }
   ],
   "source": [
    "print(\"El número de palabras es {}\".format(numero))"
   ]
  },
  {
   "cell_type": "code",
   "execution_count": null,
   "id": "aa919638-769c-41a8-b14b-699383f69fdf",
   "metadata": {},
   "outputs": [],
   "source": []
  }
 ],
 "metadata": {
  "kernelspec": {
   "display_name": "Python 3.14 (base2)",
   "language": "python",
   "name": "base2"
  },
  "language_info": {
   "codemirror_mode": {
    "name": "ipython",
    "version": 3
   },
   "file_extension": ".py",
   "mimetype": "text/x-python",
   "name": "python",
   "nbconvert_exporter": "python",
   "pygments_lexer": "ipython3",
   "version": "3.13.9"
  }
 },
 "nbformat": 4,
 "nbformat_minor": 5
}
