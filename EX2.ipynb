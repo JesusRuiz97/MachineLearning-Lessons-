{
 "cells": [
  {
   "cell_type": "code",
   "execution_count": 1,
   "id": "08afa953-2072-41d2-b231-4224ee513750",
   "metadata": {},
   "outputs": [],
   "source": [
    "# Ejercicio 2"
   ]
  },
  {
   "cell_type": "code",
   "execution_count": 4,
   "id": "b71e9c5c-3331-47d6-83c0-3a6507ed52b1",
   "metadata": {},
   "outputs": [
    {
     "data": {
      "text/plain": [
       "[1, -1, 4, -15, 9, 7, 6, -3, 2, -20]"
      ]
     },
     "execution_count": 4,
     "metadata": {},
     "output_type": "execute_result"
    }
   ],
   "source": [
    "lista = [1,-1,4,-15,9,7,6,-3,2,-20]\n",
    "lista"
   ]
  },
  {
   "cell_type": "code",
   "execution_count": 5,
   "id": "7d2fb3be-8e81-46fc-a40d-a1ba15c3d4d9",
   "metadata": {},
   "outputs": [],
   "source": [
    "def positivo(numero):\n",
    "    if (numero >= 0):\n",
    "        return numero"
   ]
  },
  {
   "cell_type": "code",
   "execution_count": 6,
   "id": "80ce8ac4-cf4c-4698-bc4e-a93e2769b33a",
   "metadata": {},
   "outputs": [],
   "source": [
    "positivo(-5)"
   ]
  },
  {
   "cell_type": "code",
   "execution_count": 7,
   "id": "6ece07d4-e9b1-41e1-aac6-b534fff65af4",
   "metadata": {},
   "outputs": [
    {
     "data": {
      "text/plain": [
       "6"
      ]
     },
     "execution_count": 7,
     "metadata": {},
     "output_type": "execute_result"
    }
   ],
   "source": [
    "positivo(6)"
   ]
  },
  {
   "cell_type": "code",
   "execution_count": 8,
   "id": "fce675cf-353b-4dfd-b175-c7caeee959fe",
   "metadata": {},
   "outputs": [],
   "source": [
    "lista2 = list(filter(positivo, lista))"
   ]
  },
  {
   "cell_type": "code",
   "execution_count": 9,
   "id": "7afe0ab5-279b-46d4-8809-84ad1d4fc1cd",
   "metadata": {},
   "outputs": [
    {
     "data": {
      "text/plain": [
       "[1, 4, 9, 7, 6, 2]"
      ]
     },
     "execution_count": 9,
     "metadata": {},
     "output_type": "execute_result"
    }
   ],
   "source": [
    "lista2"
   ]
  },
  {
   "cell_type": "code",
   "execution_count": null,
   "id": "aa6fbc13-ae71-41d6-b08c-f872194aa600",
   "metadata": {},
   "outputs": [],
   "source": []
  }
 ],
 "metadata": {
  "kernelspec": {
   "display_name": "Python 3.14 (base2)",
   "language": "python",
   "name": "base2"
  },
  "language_info": {
   "codemirror_mode": {
    "name": "ipython",
    "version": 3
   },
   "file_extension": ".py",
   "mimetype": "text/x-python",
   "name": "python",
   "nbconvert_exporter": "python",
   "pygments_lexer": "ipython3",
   "version": "3.13.9"
  }
 },
 "nbformat": 4,
 "nbformat_minor": 5
}
